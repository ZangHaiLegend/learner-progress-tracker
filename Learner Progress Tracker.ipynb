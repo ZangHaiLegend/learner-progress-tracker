{
 "cells": [
  {
   "cell_type": "code",
   "execution_count": 0,
   "metadata": {
    "application/vnd.databricks.v1+cell": {
     "cellMetadata": {
      "byteLimit": 2048000,
      "rowLimit": 10000
     },
     "inputWidgets": {},
     "nuid": "969cbfdc-cd4d-445c-be00-f6baece42995",
     "showTitle": false,
     "tableResultSettingsMap": {},
     "title": ""
    }
   },
   "outputs": [
    {
     "output_type": "stream",
     "name": "stdout",
     "output_type": "stream",
     "text": [
      "+-------+-----------+--------+----------+---------+-----+\n|learner|       team|  module|      date|completed|score|\n+-------+-----------+--------+----------+---------+-----+\n|   Alex|      Sales|Module 1|2025-06-01|        1|   70|\n|   Alex|      Sales|Module 2|2025-06-03|        1|   80|\n|    Bri|Engineering|Module 1|2025-06-01|        1|   95|\n|    Bri|Engineering|Module 2|2025-06-04|        1|   98|\n|  Casey|         CS|Module 1|2025-06-01|        1|   60|\n|  Casey|         CS|Module 2|2025-06-02|        0| null|\n|    Dev|      Sales|Module 1|2025-06-01|        0| null|\n|    Dev|      Sales|Module 2|2025-06-03|        0| null|\n+-------+-----------+--------+----------+---------+-----+\n\n"
     ]
    }
   ],
   "source": [
    "# Recreate learner dataset\n",
    "learner_data = [\n",
    "    (\"Alex\", \"Sales\", \"Module 1\", \"2025-06-01\", 1, 70),\n",
    "    (\"Alex\", \"Sales\", \"Module 2\", \"2025-06-03\", 1, 80),\n",
    "    (\"Bri\", \"Engineering\", \"Module 1\", \"2025-06-01\", 1, 95),\n",
    "    (\"Bri\", \"Engineering\", \"Module 2\", \"2025-06-04\", 1, 98),\n",
    "    (\"Casey\", \"CS\", \"Module 1\", \"2025-06-01\", 1, 60),\n",
    "    (\"Casey\", \"CS\", \"Module 2\", \"2025-06-02\", 0, None),\n",
    "    (\"Dev\", \"Sales\", \"Module 1\", \"2025-06-01\", 0, None),\n",
    "    (\"Dev\", \"Sales\", \"Module 2\", \"2025-06-03\", 0, None),\n",
    "]\n",
    "\n",
    "columns = [\"learner\", \"team\", \"module\", \"date\", \"completed\", \"score\"]\n",
    "\n",
    "df = spark.createDataFrame(learner_data, columns)\n",
    "df.show()\n"
   ]
  },
  {
   "cell_type": "code",
   "execution_count": 0,
   "metadata": {
    "application/vnd.databricks.v1+cell": {
     "cellMetadata": {
      "byteLimit": 2048000,
      "rowLimit": 10000
     },
     "inputWidgets": {},
     "nuid": "98088848-1754-49f9-9007-03657d3736e5",
     "showTitle": false,
     "tableResultSettingsMap": {},
     "title": ""
    }
   },
   "outputs": [
    {
     "output_type": "stream",
     "name": "stdout",
     "output_type": "stream",
     "text": [
      "+-------+-----------------+-------------+---------+----------------+\n|learner|modules_completed|total_modules|avg_score|progress_percent|\n+-------+-----------------+-------------+---------+----------------+\n|   Alex|                2|            2|     75.0|           100.0|\n|    Bri|                2|            2|     96.5|           100.0|\n|  Casey|                1|            2|     60.0|            50.0|\n|    Dev|                0|            2|     null|             0.0|\n+-------+-----------------+-------------+---------+----------------+\n\n"
     ]
    }
   ],
   "source": [
    "from pyspark.sql.functions import avg, count, sum as spark_sum\n",
    "\n",
    "# Group by learner and calculate progress metrics\n",
    "progress_df = df.groupBy(\"learner\").agg(\n",
    "    spark_sum(\"completed\").alias(\"modules_completed\"),\n",
    "    count(\"module\").alias(\"total_modules\"),\n",
    "    avg(\"score\").alias(\"avg_score\")\n",
    ")\n",
    "\n",
    "# Calculate progress percentage\n",
    "progress_df = progress_df.withColumn(\n",
    "    \"progress_percent\", (progress_df[\"modules_completed\"] / progress_df[\"total_modules\"]) * 100\n",
    ")\n",
    "\n",
    "progress_df.show()\n"
   ]
  },
  {
   "cell_type": "code",
   "execution_count": 0,
   "metadata": {
    "application/vnd.databricks.v1+cell": {
     "cellMetadata": {
      "byteLimit": 2048000,
      "rowLimit": 10000
     },
     "inputWidgets": {},
     "nuid": "280ef223-eb88-4e00-9478-1b3715926166",
     "showTitle": false,
     "tableResultSettingsMap": {},
     "title": ""
    }
   },
   "outputs": [
    {
     "output_type": "stream",
     "name": "stdout",
     "output_type": "stream",
     "text": [
      "+-------+-----------------+-------------+---------+----------------+-------+\n|learner|modules_completed|total_modules|avg_score|progress_percent|at_risk|\n+-------+-----------------+-------------+---------+----------------+-------+\n|   Alex|                2|            2|     75.0|           100.0|     NO|\n|    Bri|                2|            2|     96.5|           100.0|     NO|\n|  Casey|                1|            2|     60.0|            50.0|    YES|\n|    Dev|                0|            2|     null|             0.0|    YES|\n+-------+-----------------+-------------+---------+----------------+-------+\n\n"
     ]
    }
   ],
   "source": [
    "from pyspark.sql.functions import when\n",
    "\n",
    "# Add a flag for at-risk learners\n",
    "risk_df = progress_df.withColumn(\n",
    "    \"at_risk\",\n",
    "    when((progress_df[\"progress_percent\"] < 50) | (progress_df[\"avg_score\"] < 70), \"YES\").otherwise(\"NO\")\n",
    ")\n",
    "\n",
    "risk_df.show()\n"
   ]
  },
  {
   "cell_type": "code",
   "execution_count": 0,
   "metadata": {
    "application/vnd.databricks.v1+cell": {
     "cellMetadata": {
      "byteLimit": 2048000,
      "rowLimit": 10000
     },
     "inputWidgets": {},
     "nuid": "24a7c0d9-7cc5-469e-80df-6cf6855a7c03",
     "showTitle": false,
     "tableResultSettingsMap": {},
     "title": ""
    }
   },
   "outputs": [],
   "source": [
    "# Save risk analysis as a Delta Table\n",
    "risk_df.write.format(\"delta\").mode(\"overwrite\").saveAsTable(\"learner_progress_summary\")\n"
   ]
  },
  {
   "cell_type": "code",
   "execution_count": 0,
   "metadata": {
    "application/vnd.databricks.v1+cell": {
     "cellMetadata": {
      "byteLimit": 2048000,
      "implicitDf": true,
      "rowLimit": 10000
     },
     "inputWidgets": {},
     "nuid": "27d4c614-fcf7-403e-930f-bc80c19d908e",
     "showTitle": false,
     "tableResultSettingsMap": {},
     "title": ""
    }
   },
   "outputs": [
    {
     "output_type": "display_data",
     "data": {
      "text/html": [
       "<style scoped>\n",
       "  .table-result-container {\n",
       "    max-height: 300px;\n",
       "    overflow: auto;\n",
       "  }\n",
       "  table, th, td {\n",
       "    border: 1px solid black;\n",
       "    border-collapse: collapse;\n",
       "  }\n",
       "  th, td {\n",
       "    padding: 5px;\n",
       "  }\n",
       "  th {\n",
       "    text-align: left;\n",
       "  }\n",
       "</style><div class='table-result-container'><table class='table-result'><thead style='background-color: white'><tr><th>learner</th><th>progress_percent</th><th>avg_score</th><th>at_risk</th></tr></thead><tbody><tr><td>Dev</td><td>0.0</td><td>null</td><td>YES</td></tr><tr><td>Casey</td><td>50.0</td><td>60.0</td><td>YES</td></tr><tr><td>Alex</td><td>100.0</td><td>75.0</td><td>NO</td></tr><tr><td>Bri</td><td>100.0</td><td>96.5</td><td>NO</td></tr></tbody></table></div>"
      ]
     },
     "metadata": {
      "application/vnd.databricks.v1+output": {
       "addedWidgets": {},
       "aggData": [],
       "aggError": "",
       "aggOverflow": false,
       "aggSchema": [],
       "aggSeriesLimitReached": false,
       "aggType": "",
       "arguments": {},
       "columnCustomDisplayInfos": {},
       "data": [
        [
         "Dev",
         0.0,
         null,
         "YES"
        ],
        [
         "Casey",
         50.0,
         60.0,
         "YES"
        ],
        [
         "Alex",
         100.0,
         75.0,
         "NO"
        ],
        [
         "Bri",
         100.0,
         96.5,
         "NO"
        ]
       ],
       "datasetInfos": [],
       "dbfsResultPath": null,
       "isJsonSchema": true,
       "metadata": {},
       "overflow": false,
       "plotOptions": {
        "customPlotOptions": {},
        "displayType": "table",
        "pivotAggregation": null,
        "pivotColumns": null,
        "xColumns": null,
        "yColumns": null
       },
       "removedWidgets": [],
       "schema": [
        {
         "metadata": "{}",
         "name": "learner",
         "type": "\"string\""
        },
        {
         "metadata": "{}",
         "name": "progress_percent",
         "type": "\"double\""
        },
        {
         "metadata": "{}",
         "name": "avg_score",
         "type": "\"double\""
        },
        {
         "metadata": "{}",
         "name": "at_risk",
         "type": "\"string\""
        }
       ],
       "type": "table"
      }
     },
     "output_type": "display_data"
    }
   ],
   "source": [
    "%sql\n",
    "SELECT learner, progress_percent, avg_score, at_risk\n",
    "FROM learner_progress_summary\n",
    "ORDER BY progress_percent ASC;\n"
   ]
  },
  {
   "cell_type": "code",
   "execution_count": 0,
   "metadata": {
    "application/vnd.databricks.v1+cell": {
     "cellMetadata": {
      "byteLimit": 2048000,
      "implicitDf": true,
      "rowLimit": 10000
     },
     "inputWidgets": {},
     "nuid": "c87d0b37-5d32-4974-ac86-63d9b94db2ea",
     "showTitle": false,
     "tableResultSettingsMap": {},
     "title": ""
    }
   },
   "outputs": [
    {
     "output_type": "display_data",
     "data": {
      "text/html": [
       "<style scoped>\n",
       "  .table-result-container {\n",
       "    max-height: 300px;\n",
       "    overflow: auto;\n",
       "  }\n",
       "  table, th, td {\n",
       "    border: 1px solid black;\n",
       "    border-collapse: collapse;\n",
       "  }\n",
       "  th, td {\n",
       "    padding: 5px;\n",
       "  }\n",
       "  th {\n",
       "    text-align: left;\n",
       "  }\n",
       "</style><div class='table-result-container'><table class='table-result'><thead style='background-color: white'><tr><th>at_risk</th><th>learner_count</th></tr></thead><tbody><tr><td>YES</td><td>2</td></tr><tr><td>NO</td><td>2</td></tr></tbody></table></div>"
      ]
     },
     "metadata": {
      "application/vnd.databricks.v1+output": {
       "addedWidgets": {},
       "aggData": [],
       "aggError": "",
       "aggOverflow": false,
       "aggSchema": [],
       "aggSeriesLimitReached": false,
       "aggType": "",
       "arguments": {},
       "columnCustomDisplayInfos": {},
       "data": [
        [
         "YES",
         2
        ],
        [
         "NO",
         2
        ]
       ],
       "datasetInfos": [],
       "dbfsResultPath": null,
       "isJsonSchema": true,
       "metadata": {},
       "overflow": false,
       "plotOptions": {
        "customPlotOptions": {},
        "displayType": "table",
        "pivotAggregation": null,
        "pivotColumns": null,
        "xColumns": null,
        "yColumns": null
       },
       "removedWidgets": [],
       "schema": [
        {
         "metadata": "{}",
         "name": "at_risk",
         "type": "\"string\""
        },
        {
         "metadata": "{}",
         "name": "learner_count",
         "type": "\"long\""
        }
       ],
       "type": "table"
      }
     },
     "output_type": "display_data"
    },
    {
     "output_type": "display_data",
     "data": {
      "text/plain": [
       "Databricks visualization. Run in Databricks to view."
      ]
     },
     "metadata": {
      "application/vnd.databricks.v1.subcommand+json": {
       "baseErrorDetails": null,
       "bindings": {},
       "collapsed": false,
       "command": "%sql WITH q AS (SELECT at_risk, COUNT(*) AS learner_count\nFROM learner_progress_summary\nGROUP BY at_risk) SELECT `learner_count`,COUNT(`at_risk`) `column_4f037b4280` FROM q GROUP BY `learner_count`",
       "commandTitle": "Visualization 2",
       "commandType": "auto",
       "commandVersion": 0,
       "commentThread": [],
       "commentsVisible": false,
       "contentSha256Hex": null,
       "customPlotOptions": {
        "redashChart": [
         {
          "key": "type",
          "value": "CHART"
         },
         {
          "key": "options",
          "value": {
           "alignYAxesAtZero": true,
           "coefficient": 1,
           "columnConfigurationMap": {
            "x": {
             "column": "at_risk",
             "id": "column_4f037b4284"
            },
            "y": [
             {
              "column": "learner_count",
              "id": "column_4f037b4280",
              "transform": "COUNT"
             }
            ]
           },
           "dateTimeFormat": "DD/MM/YYYY HH:mm",
           "direction": {
            "type": "counterclockwise"
           },
           "error_y": {
            "type": "data",
            "visible": true
           },
           "globalSeriesType": "pie",
           "isAggregationOn": true,
           "legend": {
            "traceorder": "normal"
           },
           "missingValuesAsZero": true,
           "numberFormat": "0,0.[00000]",
           "percentFormat": "0[.]00%",
           "series": {
            "error_y": {
             "type": "data",
             "visible": true
            },
            "stacking": null
           },
           "seriesOptions": {
            "column_4f037b4280": {
             "name": "learner_count",
             "type": "pie",
             "yAxis": 0
            }
           },
           "showDataLabels": true,
           "sizemode": "diameter",
           "sortX": true,
           "sortY": true,
           "swappedAxes": false,
           "textFormat": "",
           "useAggregationsUi": true,
           "valuesOptions": {},
           "version": 2,
           "xAxis": {
            "labels": {
             "enabled": true
            },
            "type": "-"
           },
           "yAxis": [
            {
             "type": "-"
            },
            {
             "opposite": true,
             "type": "-"
            }
           ]
          }
         }
        ]
       },
       "datasetPreviewNameToCmdIdMap": {},
       "diffDeletes": [],
       "diffInserts": [],
       "displayType": "redashChart",
       "error": null,
       "errorDetails": null,
       "errorSummary": null,
       "errorTraceType": null,
       "finishTime": 0,
       "globalVars": {},
       "guid": "",
       "height": "auto",
       "hideCommandCode": false,
       "hideCommandResult": false,
       "iPythonMetadata": null,
       "inputWidgets": {},
       "isLockedInExamMode": false,
       "latestUser": "a user",
       "latestUserId": null,
       "listResultMetadata": null,
       "metadata": {},
       "nuid": "b4cd9985-e10f-4c6d-a9fc-e525694a20e2",
       "origId": 0,
       "parentHierarchy": [],
       "pivotAggregation": null,
       "pivotColumns": null,
       "position": 7.0,
       "resultDbfsErrorMessage": null,
       "resultDbfsStatus": "INLINED_IN_TREE",
       "results": null,
       "showCommandTitle": false,
       "startTime": 0,
       "state": "input",
       "streamStates": {},
       "subcommandOptions": {
        "queryPlan": {
         "groups": [
          {
           "column": "at_risk",
           "type": "column"
          }
         ],
         "selects": [
          {
           "column": "at_risk",
           "type": "column"
          },
          {
           "alias": "column_4f037b4280",
           "args": [
            {
             "column": "learner_count",
             "type": "column"
            }
           ],
           "function": "COUNT",
           "type": "function"
          }
         ]
        }
       },
       "submitTime": 0,
       "subtype": "tableResultSubCmd.visualization",
       "tableResultIndex": 0,
       "tableResultSettingsMap": {},
       "useConsistentColors": false,
       "version": "CommandV1",
       "width": "auto",
       "workflows": [],
       "xColumns": null,
       "yColumns": null
      }
     },
     "output_type": "display_data"
    }
   ],
   "source": [
    "%sql\n",
    "SELECT at_risk, COUNT(*) AS learner_count\n",
    "FROM learner_progress_summary\n",
    "GROUP BY at_risk;\n"
   ]
  },
  {
   "cell_type": "code",
   "execution_count": 0,
   "metadata": {
    "application/vnd.databricks.v1+cell": {
     "cellMetadata": {
      "byteLimit": 2048000,
      "implicitDf": true,
      "rowLimit": 10000
     },
     "inputWidgets": {},
     "nuid": "b724c24b-7d19-49f1-9923-bd832078a6c8",
     "showTitle": false,
     "tableResultSettingsMap": {},
     "title": ""
    }
   },
   "outputs": [
    {
     "output_type": "display_data",
     "data": {
      "text/html": [
       "<style scoped>\n",
       "  .table-result-container {\n",
       "    max-height: 300px;\n",
       "    overflow: auto;\n",
       "  }\n",
       "  table, th, td {\n",
       "    border: 1px solid black;\n",
       "    border-collapse: collapse;\n",
       "  }\n",
       "  th, td {\n",
       "    padding: 5px;\n",
       "  }\n",
       "  th {\n",
       "    text-align: left;\n",
       "  }\n",
       "</style><div class='table-result-container'><table class='table-result'><thead style='background-color: white'><tr><th>learner</th><th>progress_percent</th></tr></thead><tbody><tr><td>Alex</td><td>100.0</td></tr><tr><td>Bri</td><td>100.0</td></tr><tr><td>Casey</td><td>50.0</td></tr><tr><td>Dev</td><td>0.0</td></tr></tbody></table></div>"
      ]
     },
     "metadata": {
      "application/vnd.databricks.v1+output": {
       "addedWidgets": {},
       "aggData": [],
       "aggError": "",
       "aggOverflow": false,
       "aggSchema": [],
       "aggSeriesLimitReached": false,
       "aggType": "",
       "arguments": {},
       "columnCustomDisplayInfos": {},
       "data": [
        [
         "Alex",
         100.0
        ],
        [
         "Bri",
         100.0
        ],
        [
         "Casey",
         50.0
        ],
        [
         "Dev",
         0.0
        ]
       ],
       "datasetInfos": [],
       "dbfsResultPath": null,
       "isJsonSchema": true,
       "metadata": {},
       "overflow": false,
       "plotOptions": {
        "customPlotOptions": {},
        "displayType": "table",
        "pivotAggregation": null,
        "pivotColumns": null,
        "xColumns": null,
        "yColumns": null
       },
       "removedWidgets": [],
       "schema": [
        {
         "metadata": "{}",
         "name": "learner",
         "type": "\"string\""
        },
        {
         "metadata": "{}",
         "name": "progress_percent",
         "type": "\"double\""
        }
       ],
       "type": "table"
      }
     },
     "output_type": "display_data"
    },
    {
     "output_type": "display_data",
     "data": {
      "text/plain": [
       "Databricks visualization. Run in Databricks to view."
      ]
     },
     "metadata": {
      "application/vnd.databricks.v1.subcommand+json": {
       "baseErrorDetails": null,
       "bindings": {},
       "collapsed": false,
       "command": "%sql WITH q AS (SELECT learner, progress_percent\nFROM learner_progress_summary) SELECT `learner`,SUM(`progress_percent`) `column_4f037b4291` FROM q GROUP BY `learner`",
       "commandTitle": "Visualization 1",
       "commandType": "auto",
       "commandVersion": 0,
       "commentThread": [],
       "commentsVisible": false,
       "contentSha256Hex": null,
       "customPlotOptions": {
        "redashChart": [
         {
          "key": "type",
          "value": "CHART"
         },
         {
          "key": "options",
          "value": {
           "alignYAxesAtZero": true,
           "coefficient": 1,
           "columnConfigurationMap": {
            "x": {
             "column": "learner",
             "id": "column_4f037b4290"
            },
            "y": [
             {
              "column": "progress_percent",
              "id": "column_4f037b4291",
              "transform": "SUM"
             }
            ]
           },
           "dateTimeFormat": "DD/MM/YYYY HH:mm",
           "direction": {
            "type": "counterclockwise"
           },
           "error_y": {
            "type": "data",
            "visible": true
           },
           "globalSeriesType": "column",
           "legend": {
            "traceorder": "normal"
           },
           "missingValuesAsZero": true,
           "numberFormat": "0,0.[00000]",
           "percentFormat": "0[.]00%",
           "series": {
            "error_y": {
             "type": "data",
             "visible": true
            },
            "stacking": null
           },
           "seriesOptions": {
            "column_4f037b4291": {
             "name": "progress_percent",
             "yAxis": 0
            }
           },
           "showDataLabels": false,
           "sizemode": "diameter",
           "sortX": true,
           "sortY": true,
           "swappedAxes": true,
           "textFormat": "",
           "useAggregationsUi": true,
           "valuesOptions": {},
           "version": 2,
           "xAxis": {
            "labels": {
             "enabled": true
            },
            "type": "-"
           },
           "yAxis": [
            {
             "type": "-"
            },
            {
             "opposite": true,
             "type": "-"
            }
           ]
          }
         }
        ]
       },
       "datasetPreviewNameToCmdIdMap": {},
       "diffDeletes": [],
       "diffInserts": [],
       "displayType": "redashChart",
       "error": null,
       "errorDetails": null,
       "errorSummary": null,
       "errorTraceType": null,
       "finishTime": 0,
       "globalVars": {},
       "guid": "",
       "height": "auto",
       "hideCommandCode": false,
       "hideCommandResult": false,
       "iPythonMetadata": null,
       "inputWidgets": {},
       "isLockedInExamMode": false,
       "latestUser": "a user",
       "latestUserId": null,
       "listResultMetadata": null,
       "metadata": {},
       "nuid": "5a345c57-f1d9-4747-b0b8-47f5b06d0024",
       "origId": 0,
       "parentHierarchy": [],
       "pivotAggregation": null,
       "pivotColumns": null,
       "position": 7.0,
       "resultDbfsErrorMessage": null,
       "resultDbfsStatus": "INLINED_IN_TREE",
       "results": null,
       "showCommandTitle": false,
       "startTime": 0,
       "state": "input",
       "streamStates": {},
       "subcommandOptions": {
        "queryPlan": {
         "groups": [
          {
           "column": "learner",
           "type": "column"
          }
         ],
         "selects": [
          {
           "column": "learner",
           "type": "column"
          },
          {
           "alias": "column_4f037b4291",
           "args": [
            {
             "column": "progress_percent",
             "type": "column"
            }
           ],
           "function": "SUM",
           "type": "function"
          }
         ]
        }
       },
       "submitTime": 0,
       "subtype": "tableResultSubCmd.visualization",
       "tableResultIndex": 0,
       "tableResultSettingsMap": {},
       "useConsistentColors": false,
       "version": "CommandV1",
       "width": "auto",
       "workflows": [],
       "xColumns": null,
       "yColumns": null
      }
     },
     "output_type": "display_data"
    }
   ],
   "source": [
    "%sql\n",
    "SELECT learner, progress_percent\n",
    "FROM learner_progress_summary;\n"
   ]
  },
  {
   "cell_type": "code",
   "execution_count": 0,
   "metadata": {
    "application/vnd.databricks.v1+cell": {
     "cellMetadata": {},
     "inputWidgets": {},
     "nuid": "15fc89f4-d916-4149-864c-6bbce932e6d4",
     "showTitle": false,
     "tableResultSettingsMap": {},
     "title": ""
    }
   },
   "outputs": [],
   "source": []
  }
 ],
 "metadata": {
  "application/vnd.databricks.v1+notebook": {
   "computePreferences": null,
   "dashboards": [],
   "environmentMetadata": {
    "base_environment": "",
    "environment_version": "1"
   },
   "inputWidgetPreferences": null,
   "language": "python",
   "notebookMetadata": {
    "mostRecentlyExecutedCommandWithImplicitDF": {
     "commandId": 1747450787913580,
     "dataframes": [
      "_sqldf"
     ]
    },
    "pythonIndentUnit": 4
   },
   "notebookName": "Learner Progress Tracker",
   "widgets": {}
  }
 },
 "nbformat": 4,
 "nbformat_minor": 0
}